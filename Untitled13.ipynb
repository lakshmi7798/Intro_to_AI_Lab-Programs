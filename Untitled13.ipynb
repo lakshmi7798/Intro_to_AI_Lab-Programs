{
  "nbformat": 4,
  "nbformat_minor": 0,
  "metadata": {
    "colab": {
      "name": "Untitled13.ipynb",
      "provenance": [],
      "authorship_tag": "ABX9TyNVUEDM9R7v74SXKavcuIUs",
      "include_colab_link": true
    },
    "kernelspec": {
      "name": "python3",
      "display_name": "Python 3"
    },
    "language_info": {
      "name": "python"
    }
  },
  "cells": [
    {
      "cell_type": "markdown",
      "metadata": {
        "id": "view-in-github",
        "colab_type": "text"
      },
      "source": [
        "<a href=\"https://colab.research.google.com/github/lakshmi7798/Intro_to_AI_Lab-Programs/blob/main/Untitled13.ipynb\" target=\"_parent\"><img src=\"https://colab.research.google.com/assets/colab-badge.svg\" alt=\"Open In Colab\"/></a>"
      ]
    },
    {
      "cell_type": "code",
      "metadata": {
        "colab": {
          "base_uri": "https://localhost:8080/"
        },
        "id": "YWg72G4w-8Pz",
        "outputId": "58ddbe29-9da9-4cdb-94a9-0b8bbe9c9fa1"
      },
      "source": [
        "## change a and b accordingly\n",
        "a = True\n",
        "b = False\n",
        "print(('a and b is',a and b))\n",
        "print(('a or b is',a or b))\n",
        "print(('not a is',not a))\n",
        "print(('not a or b is', not a or b))\n",
        "print(('(not a or b) and (not b or a)', (not a or b) and (not b or a)))\n",
        "\n"
      ],
      "execution_count": 4,
      "outputs": [
        {
          "output_type": "stream",
          "text": [
            "('a and b is', False)\n",
            "('a or b is', True)\n",
            "('not a is', False)\n",
            "('not a or b is', False)\n",
            "('(not a or b) and (not b or a)', False)\n"
          ],
          "name": "stdout"
        }
      ]
    }
  ]
}