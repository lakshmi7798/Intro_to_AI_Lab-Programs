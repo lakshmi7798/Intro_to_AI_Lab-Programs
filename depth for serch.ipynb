{
  "nbformat": 4,
  "nbformat_minor": 0,
  "metadata": {
    "colab": {
      "name": "Untitled18.ipynb",
      "provenance": [],
      "authorship_tag": "ABX9TyOEQ03nckQ0+dPtt7olxtPu",
      "include_colab_link": true
    },
    "kernelspec": {
      "name": "python3",
      "display_name": "Python 3"
    },
    "language_info": {
      "name": "python"
    }
  },
  "cells": [
    {
      "cell_type": "markdown",
      "metadata": {
        "id": "view-in-github",
        "colab_type": "text"
      },
      "source": [
        "<a href=\"https://colab.research.google.com/github/lakshmi7798/Intro_to_AI_Lab-Programs/blob/main/depth%20for%20serch.ipynb\" target=\"_parent\"><img src=\"https://colab.research.google.com/assets/colab-badge.svg\" alt=\"Open In Colab\"/></a>"
      ]
    },
    {
      "cell_type": "code",
      "metadata": {
        "colab": {
          "base_uri": "https://localhost:8080/"
        },
        "id": "yZciJ7OXGysD",
        "outputId": "305ec2c3-8329-46ca-b720-15103be186e6"
      },
      "source": [
        "def pour(jug1, jug2):\n",
        "    max1, max2, fill = 3, 4, 2  #Change maximum capacity and final capacity\n",
        "    print(\"%d\\t%d\" % (jug1, jug2))\n",
        "    if jug2 is fill:\n",
        "        return\n",
        "    elif jug2 is max2:\n",
        "        pour(0, jug1)\n",
        "    elif jug1 != 0 and jug2 is 0:\n",
        "        pour(0, jug1)\n",
        "    elif jug1 is fill:\n",
        "        pour(jug1, 0)\n",
        "    elif jug1 < max1:\n",
        "        pour(max1, jug2)\n",
        "    elif jug1 < (max2-jug2):\n",
        "        pour(0, (jug1+jug2))\n",
        "    else:\n",
        "        pour(jug1-(max2-jug2), (max2-jug2)+jug2)\n",
        " \n",
        "print(\"JUG1\\tJUG2\")\n",
        "pour(0, 0)\n"
      ],
      "execution_count": 1,
      "outputs": [
        {
          "output_type": "stream",
          "text": [
            "JUG1\tJUG2\n",
            "0\t0\n",
            "3\t0\n",
            "0\t3\n",
            "3\t3\n",
            "2\t4\n",
            "0\t2\n"
          ],
          "name": "stdout"
        }
      ]
    }
  ]
}