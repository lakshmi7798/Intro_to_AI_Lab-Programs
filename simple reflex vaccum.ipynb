{
  "nbformat": 4,
  "nbformat_minor": 0,
  "metadata": {
    "colab": {
      "name": "Untitled14.ipynb",
      "provenance": [],
      "authorship_tag": "ABX9TyOrcvbTKfeR5RzEE1luLk3q",
      "include_colab_link": true
    },
    "kernelspec": {
      "name": "python3",
      "display_name": "Python 3"
    },
    "language_info": {
      "name": "python"
    }
  },
  "cells": [
    {
      "cell_type": "markdown",
      "metadata": {
        "id": "view-in-github",
        "colab_type": "text"
      },
      "source": [
        "<a href=\"https://colab.research.google.com/github/lakshmi7798/Intro_to_AI_Lab-Programs/blob/main/simple%20reflex%20vaccum.ipynb\" target=\"_parent\"><img src=\"https://colab.research.google.com/assets/colab-badge.svg\" alt=\"Open In Colab\"/></a>"
      ]
    },
    {
      "cell_type": "code",
      "metadata": {
        "colab": {
          "base_uri": "https://localhost:8080/"
        },
        "id": "Z-gTS0TZAhnk",
        "outputId": "ed723427-e5df-4507-f08e-5d49914f7a53"
      },
      "source": [
        "flag=True\n",
        "count=1\n",
        "while flag:\n",
        "    perc=input(\"enter the percept\")\n",
        "    loc=input(\"enter the location\")\n",
        "    if loc==\"A\":\n",
        "        if perc==\"dirty\":\n",
        "            print(\"action: suck...turn right\")\n",
        "            \n",
        "        else:\n",
        "            print(\"action: turn right\")\n",
        "            \n",
        "    else:\n",
        "        if perc==\"dirty\":\n",
        "            print(\"action: suck.....turn left\")\n",
        "            \n",
        "        else:\n",
        "            print(\"action: turn left\")\n",
        "    \n",
        "    print(\"Do you want to continue?\")\n",
        "    Cont=input(\"Enter Y or N\")\n",
        "    if Cont == 'Y':\n",
        "         flag= True\n",
        "    else : \n",
        "         flag = False\n"
      ],
      "execution_count": 5,
      "outputs": [
        {
          "output_type": "stream",
          "text": [
            "enter the perceptdirty\n",
            "enter the locationA\n",
            "action: suck...turn right\n",
            "Do you want to continue?\n",
            "Enter Y or NY\n",
            "enter the perceptNO\n",
            "enter the locationB\n",
            "action: turn left\n",
            "Do you want to continue?\n",
            "Enter Y or NN\n"
          ],
          "name": "stdout"
        }
      ]
    }
  ]
}