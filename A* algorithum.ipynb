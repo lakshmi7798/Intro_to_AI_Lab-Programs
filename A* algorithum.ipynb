{
  "nbformat": 4,
  "nbformat_minor": 0,
  "metadata": {
    "colab": {
      "name": "Untitled17.ipynb",
      "provenance": [],
      "authorship_tag": "ABX9TyPO+PwlIM/IJg1N05T1dBxA",
      "include_colab_link": true
    },
    "kernelspec": {
      "name": "python3",
      "display_name": "Python 3"
    },
    "language_info": {
      "name": "python"
    }
  },
  "cells": [
    {
      "cell_type": "markdown",
      "metadata": {
        "id": "view-in-github",
        "colab_type": "text"
      },
      "source": [
        "<a href=\"https://colab.research.google.com/github/lakshmi7798/Intro_to_AI_Lab-Programs/blob/main/A*%20algorithum.ipynb\" target=\"_parent\"><img src=\"https://colab.research.google.com/assets/colab-badge.svg\" alt=\"Open In Colab\"/></a>"
      ]
    },
    {
      "cell_type": "code",
      "metadata": {
        "colab": {
          "base_uri": "https://localhost:8080/"
        },
        "id": "pfSIp30AF1Za",
        "outputId": "4e714805-de90-4ea2-9bb7-40e43ae5b780"
      },
      "source": [
        "GoalNode=[[1,2,3],[4,5,6],[7,8,0]]\n",
        "StartNode=[[8,2,3],[0,4,6],[7,5,1]]\n",
        "temp = []\n",
        "h1 = -1\n",
        "h2 = 0\n",
        "\n",
        "print(\"Given StartNode is: \",StartNode)\n",
        "\n",
        "print(\"\\n\\n\\t Given GoalNode is: \",GoalNode)\n",
        "\n",
        "print(\"\\n\\n######################################\")\n",
        "\n",
        "for i in range(len(StartNode)):\n",
        "    for j in range (len(StartNode)):\n",
        "        if StartNode[i][j] != GoalNode[i][j]:\n",
        "            h1+=1\n",
        "print(\"\\n\\n\\t h1 : Number of misplaced tiles =>\",h1)\n",
        "\n",
        "\n",
        "\n",
        "'''\n",
        "for i in StartNode:\n",
        "    for j in i:\n",
        "        print(\"StartNode\",j)\n",
        "        \n",
        "print(\"######################################\")\n",
        "for i in GoalNode:\n",
        "    for j in i:\n",
        "        print(\"GoalNode\",j)\n",
        "print(\"######################################\")\n",
        "for i in range(len(StartNode)):\n",
        "    for j in range (len(StartNode)):\n",
        "        print(\"i is \",i,\"j is :\",j)'''\n",
        "\n",
        "print(\"\\n\\n######################################\")\n",
        "\n",
        "print(\"\\n\\nDistances of the tiles from their goal positions are: \\n\")\n",
        "\n",
        "for i in range(len(StartNode)):\n",
        "    for j in range (len(StartNode)):\n",
        "        if (StartNode[i][j]==0):\n",
        "            pass\n",
        "        else:\n",
        "            if (GoalNode[0][0] == StartNode[i][j]):\n",
        "                temp.append(abs(i-0) + abs(j-0))\n",
        "                print(\"\\t\",temp)\n",
        "\n",
        "            elif (GoalNode[0][1] == StartNode[i][j]):\n",
        "                temp.append(abs(i-0) + abs(j-1))\n",
        "                print(\"\\t\",temp)\n",
        "            elif (GoalNode[0][2] == StartNode[i][j]):\n",
        "                temp.append(abs(i-0) + abs(j-2))\n",
        "                print(\"\\t\",temp)\n",
        "            elif (GoalNode[1][0] == StartNode[i][j]):\n",
        "                temp.append(abs(i-1) + abs(j-0))\n",
        "                print(\"\\t\",temp)\n",
        "            elif (GoalNode[1][1] == StartNode[i][j]):\n",
        "                temp.append(abs(i-1) + abs(j-1))\n",
        "                print(\"\\t\",temp)\n",
        "            elif (GoalNode[1][2] == StartNode[i][j]):\n",
        "                temp.append(abs(i-1) + abs(j-2))\n",
        "                print(\"\\t\",temp)\n",
        "            elif (GoalNode[2][0] == StartNode[i][j]):\n",
        "                temp.append(abs(i-2) + abs(j-0))\n",
        "                print(\"\\t\",temp)\n",
        "            elif (GoalNode[2][1] == StartNode[i][j]):\n",
        "                temp.append(abs(i-2) + abs(j-1))\n",
        "                print(\"\\t\",temp)\n",
        "            elif (GoalNode[2][2] == StartNode[i][j]):\n",
        "                temp.append(abs(i-2) + abs(j-2))\n",
        "                print(\"\\t\",temp)\n",
        "            else:\n",
        "                print(\"Warning!!! This is for 8-puzzle program.So, don't cross the array limit.\")\n",
        "        \n",
        "    \n",
        "print(\"\\n\\n######################################\")\n",
        "\n",
        "for i in range(len(temp)):\n",
        "    h2+=temp[i]\n",
        "print(\"\\nh2 :  The sum of the distances of the tiles from their goal positions =>\",h2)\n",
        "\n",
        "h=h1+h2\n",
        "\n",
        "print(\"\\n\\n\\tSo, the instance of given 8-puzzle solution is\",h,\"steps long.\")\n"
      ],
      "execution_count": 1,
      "outputs": [
        {
          "output_type": "stream",
          "text": [
            "Given StartNode is:  [[8, 2, 3], [0, 4, 6], [7, 5, 1]]\n",
            "\n",
            "\n",
            "\t Given GoalNode is:  [[1, 2, 3], [4, 5, 6], [7, 8, 0]]\n",
            "\n",
            "\n",
            "######################################\n",
            "\n",
            "\n",
            "\t h1 : Number of misplaced tiles => 4\n",
            "\n",
            "\n",
            "######################################\n",
            "\n",
            "\n",
            "Distances of the tiles from their goal positions are: \n",
            "\n",
            "\t [3]\n",
            "\t [3, 0]\n",
            "\t [3, 0, 0]\n",
            "\t [3, 0, 0, 1]\n",
            "\t [3, 0, 0, 1, 0]\n",
            "\t [3, 0, 0, 1, 0, 0]\n",
            "\t [3, 0, 0, 1, 0, 0, 1]\n",
            "\t [3, 0, 0, 1, 0, 0, 1, 4]\n",
            "\n",
            "\n",
            "######################################\n",
            "\n",
            "h2 :  The sum of the distances of the tiles from their goal positions => 9\n",
            "\n",
            "\n",
            "\tSo, the instance of given 8-puzzle solution is 13 steps long.\n"
          ],
          "name": "stdout"
        }
      ]
    }
  ]
}