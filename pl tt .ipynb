{
  "nbformat": 4,
  "nbformat_minor": 0,
  "metadata": {
    "colab": {
      "name": "Untitled16.ipynb",
      "provenance": [],
      "authorship_tag": "ABX9TyMq5sm+dGOTeLbaDtzyWHJM",
      "include_colab_link": true
    },
    "kernelspec": {
      "name": "python3",
      "display_name": "Python 3"
    },
    "language_info": {
      "name": "python"
    }
  },
  "cells": [
    {
      "cell_type": "markdown",
      "metadata": {
        "id": "view-in-github",
        "colab_type": "text"
      },
      "source": [
        "<a href=\"https://colab.research.google.com/github/lakshmi7798/Intro_to_AI_Lab-Programs/blob/main/pl%20tt%20.ipynb\" target=\"_parent\"><img src=\"https://colab.research.google.com/assets/colab-badge.svg\" alt=\"Open In Colab\"/></a>"
      ]
    },
    {
      "cell_type": "code",
      "metadata": {
        "colab": {
          "base_uri": "https://localhost:8080/"
        },
        "id": "hY6dVXQ0EMd8",
        "outputId": "3923daa4-8ca4-4578-b557-1bfbe57a524b"
      },
      "source": [
        "## change s and t accordingly\n",
        "s=True\n",
        "t=True\n",
        "a = not(s or t)\n",
        "print(a)\n",
        "b = s and t\n",
        "print(b)\n",
        "c = t or (not t)\n",
        "print(c)\n",
        "d = not ((not s or s) and (not s or s))\n",
        "print(d)\n",
        "e = not (not s) and (not t)\n",
        "print(e)\n",
        "\n",
        "if a==b:\n",
        "    print(\"a entails b\")\n",
        "if a==c:\n",
        "    print(\"a entails c\")\n",
        "if a==d:\n",
        "    print(\"a entails d\")\n",
        "if a==e:\n",
        "    print(\"a entails e\")\n",
        "else:\n",
        "       print(\"no entailment\")"
      ],
      "execution_count": 5,
      "outputs": [
        {
          "output_type": "stream",
          "text": [
            "False\n",
            "True\n",
            "True\n",
            "False\n",
            "False\n",
            "a entails d\n",
            "a entails e\n"
          ],
          "name": "stdout"
        }
      ]
    }
  ]
}